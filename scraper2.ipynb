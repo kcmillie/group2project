{
 "cells": [
  {
   "cell_type": "code",
   "execution_count": 36,
   "metadata": {},
   "outputs": [],
   "source": [
    "from requests import get\n",
    "from requests.exceptions import RequestException\n",
    "from contextlib import closing\n",
    "from bs4 import BeautifulSoup\n",
    "from selenium import webdriver\n",
    "import time\n",
    "from pprint import pprint\n",
    "import json\n",
    "import pandas as pd"
   ]
  },
  {
   "cell_type": "code",
   "execution_count": 37,
   "metadata": {},
   "outputs": [],
   "source": [
    "def getHTML(brewName, loopval):\n",
    "    driver = webdriver.Chrome()\n",
    "    url = 'https://www.ratebeer.com/search?q=' + brewName + '&category=brewers'\n",
    "    driver.get(url)\n",
    "    print(url)\n",
    "    for x in range(loopval):\n",
    "        driver.execute_script(\"window.scrollTo(0, document.body.scrollHeight);\")\n",
    "        time.sleep(5)\n",
    "    html = driver.page_source\n",
    "    assert \"RateBeer Search\" in driver.title\n",
    "    assert \"No results\" not in driver.page_source\n",
    "    driver.close()\n",
    "    # print(html)\n",
    "    return html"
   ]
  },
  {
   "cell_type": "code",
   "execution_count": 38,
   "metadata": {},
   "outputs": [],
   "source": [
    "# search for brewery to get 2nd half of links\n",
    "def getlink(brewName, loopval):\n",
    "    driver = webdriver.Chrome()\n",
    "    url = 'https://www.ratebeer.com/search?q=' + brewName + '&category=brewers'\n",
    "    driver.get(url)\n",
    "#     print(url)\n",
    "    for x in range(loopval):\n",
    "        driver.execute_script(\"window.scrollTo(0, document.body.scrollHeight);\")\n",
    "        time.sleep(5)\n",
    "    html = driver.page_source\n",
    "    assert \"RateBeer Search\" in driver.title\n",
    "    assert \"No results\" not in driver.page_source\n",
    "    driver.close()\n",
    "    # print(html)\n",
    "    return html"
   ]
  },
  {
   "cell_type": "code",
   "execution_count": 50,
   "metadata": {},
   "outputs": [],
   "source": [
    "# get HTML info of from table of beers for each brewery\n",
    "def getBreweryHTML(link):\n",
    "    driver = webdriver.Chrome()\n",
    "    base = \"https://www.ratebeer.com\"\n",
    "    url = base + link\n",
    "    driver.get(url)\n",
    "    # print(url)\n",
    "    for x in range(3):\n",
    "        driver.execute_script(\"window.scrollTo(0, document.body.scrollHeight);\")\n",
    "    time.sleep(5)\n",
    "    html = driver.page_source\n",
    "    # assert \"RateBeer Search\" in driver.title\n",
    "    # assert \"No results\" not in driver.page_source\n",
    "    driver.close()\n",
    "    # print(html)\n",
    "    return html"
   ]
  },
  {
   "cell_type": "code",
   "execution_count": 51,
   "metadata": {},
   "outputs": [],
   "source": [
    "# get 2nd half beer link to go to list of beers\n",
    "# use brewery name to search\n",
    "def get2ndHalfLink(brewery):\n",
    "    foo = getHTML(brewery, 1)\n",
    "    soup = BeautifulSoup(foo, 'html.parser')\n",
    "    link = soup.find('a', attrs={'data-css-11bioy6': True, 'href':True}).get('href')\n",
    "    return link"
   ]
  },
  {
   "cell_type": "code",
   "execution_count": 52,
   "metadata": {},
   "outputs": [],
   "source": [
    "# run this before getting specific datas\n",
    "def getBeers(brewery):\n",
    "    foo = getBreweryHTML(brewery)\n",
    "    soup = BeautifulSoup(foo, 'html.parser')\n",
    "    table = soup.find_all(\"tr\", attrs={\"valign\":\"middle\"})\n",
    "    return(table)"
   ]
  },
  {
   "cell_type": "code",
   "execution_count": 62,
   "metadata": {},
   "outputs": [],
   "source": [
    "def getFinal(Table): \n",
    "    variables = ['name','style', 'rating', 'date', 'rate',\n",
    "                 'ratescore', 'style%', 'total_ratings']\n",
    "    fulllist = []\n",
    "    for x in Table:\n",
    "        try: \n",
    "            beer ={}\n",
    "            z = 0\n",
    "            for y in x:\n",
    "                if(z == 0):\n",
    "                    other = y.find(\"a\").text\n",
    "                    newthing = y.find(\"span\").text\n",
    "                    abv = y.next_sibling.text\n",
    "                    beer[variables[0]] = other\n",
    "                    beer[variables[1]] = newthing\n",
    "                    beer[variables[2]] = abv\n",
    "                    z = 2\n",
    "                else:\n",
    "                    beer[variables[z]] = y.text\n",
    "                    z = z + 1\n",
    "        #     print(beer)\n",
    "            fulllist.append(beer)\n",
    "        except AttributeError:\n",
    "            print(\"skipped beer\")\n",
    "    return fulllist\n",
    "# print(fulllist)"
   ]
  },
  {
   "cell_type": "code",
   "execution_count": 63,
   "metadata": {},
   "outputs": [],
   "source": [
    "beer_links = ['Boulevard']\n"
   ]
  },
  {
   "cell_type": "code",
   "execution_count": 64,
   "metadata": {},
   "outputs": [
    {
     "name": "stdout",
     "output_type": "stream",
     "text": [
      "https://www.ratebeer.com/search?q=Boulevard&category=brewers\n",
      "skipped beer\n",
      "skipped beer\n",
      "skipped beer\n",
      "skipped beer\n",
      "skipped beer\n",
      "skipped beer\n",
      "skipped beer\n",
      "skipped beer\n",
      "skipped beer\n",
      "skipped beer\n",
      "skipped beer\n",
      "skipped beer\n",
      "skipped beer\n",
      "skipped beer\n",
      "skipped beer\n",
      "skipped beer\n",
      "skipped beer\n",
      "skipped beer\n",
      "skipped beer\n",
      "skipped beer\n",
      "skipped beer\n",
      "[{'name': 'Boulevard / AZ Wilderness / Creature Comforts Collaboration No. 7 Oak-Aged Lager', 'style': 'Premium Lager', 'rating': '6.0', 'date': '9/1/2017', 'rate': 'Rate ', 'ratescore': '3.58', 'style%': '100', 'total_ratings': '74 '}, {'name': \"Boulevard / Cambridge Za'Tart Spiced Sour Ale\", 'style': 'Sour / Wild Ale', 'rating': '4.7', 'date': '9/10/2014', 'rate': 'Rate ', 'ratescore': '3.39', 'style%': '37', 'total_ratings': '11 '}, {'name': 'Boulevard / Cigar City Collaboration No. 5 Tropical Pale Ale', 'style': 'Pale Ale - American', 'rating': '7.3', 'date': '9/25/2015', 'rate': 'Rate ', 'ratescore': '3.66', 'style%': '98', 'total_ratings': '191 '}, {'name': 'Boulevard / Firestone Walker Collaboration No. 6 Barrel-Aged Blend', 'style': 'American Strong Ale ', 'rating': '12.5', 'date': '11/8/2016', 'rate': 'Rate ', 'ratescore': '3.78', 'style%': '95', 'total_ratings': '188 '}, {'name': 'Boulevard / Odell Silver Anniversary Ale', 'style': 'American Strong Ale ', 'rating': '7.3', 'date': '11/11/2014', 'rate': 'Rate ', 'ratescore': '3.41', 'style%': '45', 'total_ratings': '91 '}, {'name': 'Boulevard / Ommegang Collaboration No. 4 Saison', 'style': 'Saison', 'rating': '7.3', 'date': '9/22/2014', 'rate': 'Rate ', 'ratescore': '3.61', 'style%': '90', 'total_ratings': '145 '}, {'name': 'Boulevard / Pretty Things Collaboration No. 3 Stingo', 'style': 'English Strong Ale', 'rating': '8.5', 'date': '8/2/2012', 'rate': 'Rate ', 'ratescore': '3.55', 'style%': '97', 'total_ratings': '224 '}, {'name': 'Boulevard / Side Project Show-Me Sour', 'style': 'Sour / Wild Ale', 'rating': '4.3', 'date': '6/22/2015', 'rate': 'Rate ', 'ratescore': '3.32', 'style%': '27', 'total_ratings': '76 '}, {'name': 'Boulevard / Sierra Nevada Terra Incognita (Batch 1 & 2)', 'style': 'Sour / Wild Ale', 'rating': '8.5', 'date': '6/10/2012', 'rate': 'Rate ', 'ratescore': '3.58', 'style%': '59', 'total_ratings': '325 '}, {'name': 'Boulevard / Stockyards Boulfeather', 'style': 'Imperial Pils/Strong Pale Lager', 'rating': '7.5', 'date': '6/19/2017', 'rate': 'Rate ', 'ratescore': '3.02', 'style%': '', 'total_ratings': '1 '}, {'name': 'Boulevard / Weldwerks Hazy IPA', 'style': 'IPA - Imperial / Double', 'rating': '8.0', 'date': '9/28/2018', 'rate': 'Rate ', 'ratescore': '3.33', 'style%': '', 'total_ratings': '3 '}, {'name': \"Boulevard / Zipline Linkin' Up\", 'style': 'IPA', 'rating': '6.2', 'date': '6/24/2018', 'rate': 'Rate ', 'ratescore': '3.43', 'style%': '63', 'total_ratings': '9 '}, {'name': 'Boulevard 21st Anniversary Fresh Hop Pale Ale', 'style': 'Pale Ale - American', 'rating': '7.4', 'date': '10/23/2010', 'rate': 'Rate ', 'ratescore': '3.67', 'style%': '98', 'total_ratings': '106 '}, {'name': 'Boulevard 80-Acre Hoppy Wheat Beer', 'style': 'Wheat Ale', 'rating': '5.5', 'date': '5/9/2011', 'rate': 'Rate ', 'ratescore': '3.62', 'style%': '99', 'total_ratings': '510 '}, {'name': 'Boulevard Amber Ale', 'style': 'Amber Ale', 'rating': '5.1', 'date': '6/2/2010', 'rate': 'Rate ', 'ratescore': '3.02', 'style%': '45', 'total_ratings': '177 '}, {'name': 'Boulevard American Kölsch', 'style': 'Kölsch', 'rating': '4.6', 'date': '3/2/2017', 'rate': 'Rate ', 'ratescore': '3.34', 'style%': '97', 'total_ratings': '99 '}, {'name': 'Boulevard Barrel Aged Messenger Coffee Spiced Mocha Stout', 'style': 'Stout - Imperial', 'rating': '15.6', 'date': '1/28/2018', 'rate': 'Rate ', 'ratescore': '3.26', 'style%': '', 'total_ratings': '2 '}, {'name': 'Boulevard Berliner Weisse', 'style': 'Berliner Weisse', 'rating': '4.5', 'date': '8/3/2017', 'rate': 'Rate ', 'ratescore': '3.4', 'style%': '53', 'total_ratings': '31 '}, {'name': \"Boulevard Bob's '47 Oktoberfest\", 'style': 'Oktoberfest / Märzen', 'rating': '5.9', 'date': '9/17/2001', 'rate': 'Rate ', 'ratescore': '3.37', 'style%': '98', 'total_ratings': '464 '}, {'name': \"Boulevard Boss Tom's Golden Bock\", 'style': 'Bock - Heller / Maibock', 'rating': '6.1', 'date': '2/21/2008', 'rate': 'Rate ', 'ratescore': '3.01', 'style%': '44', 'total_ratings': '220 '}, {'name': 'Boulevard Boulevardia 2016 Berliner Weisse', 'style': 'Berliner Weisse', 'rating': '5.0', 'date': '7/7/2016', 'rate': 'Rate ', 'ratescore': '3.22', 'style%': '', 'total_ratings': '3 '}, {'name': 'Boulevard Boulevardia Sour Grisette', 'style': 'Sour / Wild Ale', 'rating': '6.2', 'date': '6/18/2018', 'rate': 'Rate ', 'ratescore': '3.06', 'style%': '', 'total_ratings': '1 '}, {'name': 'Boulevard Boulevardia Sparkling Ale', 'style': 'Cream Ale', 'rating': '5.1', 'date': '7/4/2017', 'rate': 'Rate ', 'ratescore': '3.11', 'style%': '', 'total_ratings': '2 '}, {'name': 'Boulevard Bourbon Barrel Quad', 'style': 'Abbey Quadrupel / Abt', 'rating': '11.2', 'date': '4/6/2007', 'rate': 'Rate ', 'ratescore': '3.84', 'style%': '95', 'total_ratings': '869 '}, {'name': 'Boulevard Brandy Barrel-Aged Belgian-Style Golden Ale', 'style': 'Belgian Strong Ale', 'rating': '12.4', 'date': '9/25/2018', 'rate': 'Rate ', 'ratescore': '3.35', 'style%': '', 'total_ratings': '2 '}, {'name': 'Boulevard Bully! Porter', 'style': 'Porter', 'rating': '6.0', 'date': '5/2/2000', 'rate': 'Rate ', 'ratescore': '3.62', 'style%': '96', 'total_ratings': '928 '}, {'name': 'Boulevard Bundle Up Barleywine', 'style': 'Barley Wine / Wheat Wine', 'rating': '10.5', 'date': '10/23/2017', 'rate': 'Rate ', 'ratescore': '3.38', 'style%': '37', 'total_ratings': '21 '}, {'name': 'Boulevard Cabernet Cask Imperial Stout', 'style': 'Stout - Imperial', 'rating': '13.8', 'date': '9/22/2017', 'rate': 'Rate ', 'ratescore': '3.84', 'style%': '85', 'total_ratings': '23 '}, {'name': 'Boulevard Celebration Sour', 'style': 'Sour / Wild Ale', 'rating': '3.9', 'date': '6/15/2014', 'rate': 'Rate ', 'ratescore': '2.81', 'style%': '', 'total_ratings': '5 '}, {'name': 'Boulevard Changeling Barrel-Aged Sour Ale', 'style': 'Sour Red / Brown', 'rating': '7.3', 'date': '4/10/2017', 'rate': 'Rate ', 'ratescore': '3.83', 'style%': '94', 'total_ratings': '49 '}, {'name': 'Boulevard City Market Cider', 'style': 'Cider', 'rating': '6.2', 'date': '12/10/2017', 'rate': 'Rate ', 'ratescore': '3.24', 'style%': '', 'total_ratings': '3 '}, {'name': 'Boulevard Cranberry Orange Radler', 'style': 'Radler / Shandy', 'rating': '4.05', 'date': '7/20/2016', 'rate': 'Rate ', 'ratescore': '3.18', 'style%': '99', 'total_ratings': '53 '}, {'name': 'Boulevard Crown Town Ale', 'style': 'Golden Ale / Blond Ale', 'rating': '6.2', 'date': '12/16/2014', 'rate': 'Rate ', 'ratescore': '3.33', 'style%': '96', 'total_ratings': '11 '}, {'name': 'Boulevard Dark Truth', 'style': 'Stout - Imperial', 'rating': '9.7', 'date': '1/5/2010', 'rate': 'Rate ', 'ratescore': '3.79', 'style%': '77', 'total_ratings': '989 '}, {'name': 'Boulevard Deep Dive', 'style': 'IPA - Imperial / Double', 'rating': '8.5', 'date': '10/5/2015', 'rate': 'Rate ', 'ratescore': '3.5', 'style%': '48', 'total_ratings': '23 '}, {'name': 'Boulevard Double Pale Ale', 'style': 'American Strong Ale ', 'rating': '8.0', 'date': '10/8/2011', 'rate': 'Rate ', 'ratescore': '3.16', 'style%': '', 'total_ratings': '6 '}, {'name': 'Boulevard Double Wide IPA with Brett', 'style': 'IPA', 'rating': '8.5', 'date': '4/12/2008', 'rate': 'Rate ', 'ratescore': '3.42', 'style%': '', 'total_ratings': '6 '}, {'name': 'Boulevard Dry Stout', 'style': 'Stout - Dry', 'rating': '4.9', 'date': '5/16/2001', 'rate': 'Rate ', 'ratescore': '3.15', 'style%': '39', 'total_ratings': '374 '}, {'name': 'Boulevard Early Riser Coffee Porter', 'style': 'Porter', 'rating': '5.2', 'date': '12/19/2015', 'rate': 'Rate ', 'ratescore': '3.61', 'style%': '96', 'total_ratings': '136 '}, {'name': 'Boulevard Entwined Ale', 'style': 'Golden Ale / Blond Ale', 'rating': '4.1', 'date': '4/27/2013', 'rate': 'Rate ', 'ratescore': '3.03', 'style%': '52', 'total_ratings': '94 '}, {'name': 'Boulevard Flora Obscura Dry-Hopped Porter', 'style': 'Porter', 'rating': '5.8', 'date': '1/15/2018', 'rate': 'Rate ', 'ratescore': '3.39', 'style%': '66', 'total_ratings': '47 '}, {'name': 'Boulevard Foeder Project #2', 'style': 'Sour / Wild Ale', 'rating': '7.0', 'date': '6/19/2017', 'rate': 'Rate ', 'ratescore': '3.71', 'style%': '85', 'total_ratings': '19 '}, {'name': 'Boulevard Foeder Projekt #1', 'style': 'Sour / Wild Ale', 'rating': '6.9', 'date': '10/21/2013', 'rate': 'Rate ', 'ratescore': '3.67', 'style%': '79', 'total_ratings': '37 '}, {'name': 'Boulevard Frequent Flier Session IPA', 'style': 'IPA - Session', 'rating': '4.3', 'date': '4/8/2016', 'rate': 'Rate ', 'ratescore': '3.29', 'style%': '46', 'total_ratings': '58 '}, {'name': 'Boulevard Funky Pumpkin Spiced Sour Ale', 'style': 'Spice / Herb / Vegetable', 'rating': '5.8', 'date': '8/27/2015', 'rate': 'Rate ', 'ratescore': '3.38', 'style%': '90', 'total_ratings': '177 '}, {'name': 'Boulevard Ginger Lemon Radler', 'style': 'Radler / Shandy', 'rating': '4.1', 'date': '3/6/2014', 'rate': 'Rate ', 'ratescore': '3.34', 'style%': '100', 'total_ratings': '223 '}, {'name': 'Boulevard Ginger Session', 'style': 'Saison', 'rating': '4.0', 'date': '8/14/2012', 'rate': 'Rate ', 'ratescore': '2.96', 'style%': '', 'total_ratings': '4 '}, {'name': 'Boulevard Grand Cru Barrel-Aged Ale', 'style': 'Belgian Strong Ale', 'rating': '13.7', 'date': '3/11/2018', 'rate': 'Rate ', 'ratescore': '3.7', 'style%': '96', 'total_ratings': '37 '}, {'name': 'Boulevard Heavy Lifting IPA', 'style': 'IPA', 'rating': '6.2', 'date': '3/30/2015', 'rate': 'Rate ', 'ratescore': '3.54', 'style%': '83', 'total_ratings': '191 '}, {'name': 'Boulevard Hibiscus Gose', 'style': 'Grodziskie/Gose/Lichtenhainer', 'rating': '4.2', 'date': '4/12/2013', 'rate': 'Rate ', 'ratescore': '3.58', 'style%': '93', 'total_ratings': '292 '}, {'name': 'Boulevard Irish Ale', 'style': 'Irish Ale', 'rating': '5.8', 'date': '8/30/2001', 'rate': 'Rate ', 'ratescore': '3.36', 'style%': '98', 'total_ratings': '460 '}, {'name': 'Boulevard Jam Band', 'style': 'Fruit Beer', 'rating': '5.9', 'date': '7/10/2017', 'rate': 'Rate ', 'ratescore': '3.31', 'style%': '88', 'total_ratings': '69 '}, {'name': 'Boulevard Jamaican Rum Barrel-Aged Imperial Stout', 'style': 'Stout - Imperial', 'rating': '14.6', 'date': '10/14/2018', 'rate': 'Rate ', 'ratescore': '3.13', 'style%': '', 'total_ratings': '1 '}, {'name': 'Boulevard KC Pils', 'style': 'Pilsener', 'rating': '4.8', 'date': '5/3/2008', 'rate': 'Rate ', 'ratescore': '3.05', 'style%': '78', 'total_ratings': '196 '}, {'name': 'Boulevard Last Splash Wet Hopped Pale Ale', 'style': 'Pale Ale - American', 'rating': '7.0', 'date': '11/19/2014', 'rate': 'Rate ', 'ratescore': '3.42', 'style%': '82', 'total_ratings': '70 '}, {'name': \"Boulevard Linkin' Up\", 'style': 'IPA', 'rating': '6.2', 'date': '6/12/2018', 'rate': 'Rate ', 'ratescore': '3.11', 'style%': '', 'total_ratings': '2 '}, {'name': 'Boulevard Love Child No. 1', 'style': 'Sour / Wild Ale', 'rating': '12.5', 'date': '10/2/2011', 'rate': 'Rate ', 'ratescore': '3.62', 'style%': '67', 'total_ratings': '24 '}, {'name': 'Boulevard Love Child No. 2', 'style': 'Sour / Wild Ale', 'rating': '9.6', 'date': '5/8/2011', 'rate': 'Rate ', 'ratescore': '3.81', 'style%': '93', 'total_ratings': '131 '}, {'name': 'Boulevard Love Child No. 3', 'style': 'Sour Red / Brown', 'rating': '9.5', 'date': '4/23/2013', 'rate': 'Rate ', 'ratescore': '3.9', 'style%': '97', 'total_ratings': '268 '}, {'name': 'Boulevard Love Child No. 4 ', 'style': 'Sour / Wild Ale', 'rating': '9.0', 'date': '6/1/2014', 'rate': 'Rate ', 'ratescore': '3.93', 'style%': '98', 'total_ratings': '269 '}, {'name': 'Boulevard Love Child No. 5', 'style': 'Sour / Wild Ale', 'rating': '8.2', 'date': '4/16/2015', 'rate': 'Rate ', 'ratescore': '3.77', 'style%': '91', 'total_ratings': '136 '}, {'name': 'Boulevard Love Child No. 6', 'style': 'Sour / Wild Ale', 'rating': '9.2', 'date': '12/2/2015', 'rate': 'Rate ', 'ratescore': '3.7', 'style%': '83', 'total_ratings': '88 '}, {'name': 'Boulevard Love Child No. 7', 'style': 'Sour Red / Brown', 'rating': '8.2', 'date': '4/18/2016', 'rate': 'Rate ', 'ratescore': '3.85', 'style%': '96', 'total_ratings': '93 '}, {'name': 'Boulevard Love Child No. 8', 'style': 'Sour Red / Brown', 'rating': '9.0', 'date': '6/19/2017', 'rate': 'Rate ', 'ratescore': '3.84', 'style%': '95', 'total_ratings': '57 '}, {'name': 'Boulevard Lunar Ale', 'style': 'Weissbier - Dunkelweizen', 'rating': '5.1', 'date': '8/1/2006', 'rate': 'Rate ', 'ratescore': '2.95', 'style%': '35', 'total_ratings': '337 '}, {'name': 'Boulevard Manhattan Cask Still Ale', 'style': 'Stout - Imperial', 'rating': '13.6', 'date': '2/17/2018', 'rate': 'Rate ', 'ratescore': '3.67', 'style%': '52', 'total_ratings': '23 '}, {'name': 'Boulevard Noble Prize Imperial Pilsner', 'style': 'Imperial Pils/Strong Pale Lager', 'rating': '7.5', 'date': '3/10/2017', 'rate': 'Rate ', 'ratescore': '3.48', 'style%': '97', 'total_ratings': '57 '}, {'name': 'Boulevard Nutcracker Ale', 'style': 'English Strong Ale', 'rating': '7.8', 'date': '7/18/2000', 'rate': 'Rate ', 'ratescore': '3.4', 'style%': '88', 'total_ratings': '581 '}, {'name': 'Boulevard Nutsack', 'style': 'IPA', 'rating': '-', 'date': '10/6/2010', 'rate': 'Rate ', 'ratescore': '3.31', 'style%': '', 'total_ratings': '6 '}, {'name': 'Boulevard Old Clarence', 'style': 'Porter', 'rating': '7.0', 'date': '1/15/2008', 'rate': 'Rate ', 'ratescore': '2.92', 'style%': '', 'total_ratings': '1 '}, {'name': 'Boulevard One Love', 'style': 'Stout - Imperial', 'rating': '14.6', 'date': '11/13/2017', 'rate': 'Rate ', 'ratescore': '3.37', 'style%': '', 'total_ratings': '3 '}, {'name': 'Boulevard Pale Ale', 'style': 'Pale Ale - American', 'rating': '5.4', 'date': '5/19/2000', 'rate': 'Rate ', 'ratescore': '3.24', 'style%': '48', 'total_ratings': '778 '}, {'name': \"Boulevard Paw Paw's Got A Brand New Bag\", 'style': 'Sour / Wild Ale', 'rating': '9.2', 'date': '7/24/2018', 'rate': 'Rate ', 'ratescore': '3.15', 'style%': '', 'total_ratings': '1 '}, {'name': 'Boulevard Pop-Up Session IPA', 'style': 'IPA - Session', 'rating': '4.2', 'date': '4/27/2013', 'rate': 'Rate ', 'ratescore': '3.48', 'style%': '86', 'total_ratings': '298 '}, {'name': 'Boulevard Requiem for a Pancake', 'style': 'American Strong Ale ', 'rating': '13.3', 'date': '3/1/2017', 'rate': 'Rate ', 'ratescore': '3.4', 'style%': '', 'total_ratings': '3 '}, {'name': 'Boulevard Rye On Rye On Rye On Rye', 'style': 'American Strong Ale ', 'rating': '15.5', 'date': '8/13/2018', 'rate': 'Rate ', 'ratescore': '3.28', 'style%': '', 'total_ratings': '3 '}, {'name': 'Boulevard Rye-on-Rye', 'style': 'American Strong Ale ', 'rating': '12', 'date': '1/5/2010', 'rate': 'Rate ', 'ratescore': '3.8', 'style%': '96', 'total_ratings': '607 '}, {'name': 'Boulevard Saison Brett', 'style': 'Saison', 'rating': '8.5', 'date': '7/18/2006', 'rate': 'Rate ', 'ratescore': '3.93', 'style%': '99', 'total_ratings': '1071 '}, {'name': 'Boulevard Saison Noir', 'style': 'Saison', 'rating': '8.75', 'date': '5/7/2012', 'rate': 'Rate ', 'ratescore': '3.16', 'style%': '', 'total_ratings': '5 '}, {'name': 'Boulevard Simcoe Harvest Wet Hop IPA', 'style': 'IPA - Imperial / Double', 'rating': '7.5', 'date': '10/11/2016', 'rate': 'Rate ', 'ratescore': '3.34', 'style%': '', 'total_ratings': '8 '}, {'name': 'Boulevard Single Wide-Tank 7 Yeast-Sorachi Ace IPA', 'style': 'IPA', 'rating': '-', 'date': '8/18/2010', 'rate': 'Rate ', 'ratescore': '3.63', 'style%': '93', 'total_ratings': '14 '}, {'name': 'Boulevard Single-Wide I.P.A.', 'style': 'IPA', 'rating': '5.7', 'date': '10/30/2008', 'rate': 'Rate ', 'ratescore': '3.53', 'style%': '83', 'total_ratings': '1147 '}, {'name': 'Boulevard Smokestack Series: Chocolate Ale', 'style': 'Spice / Herb / Vegetable', 'rating': '9.1', 'date': '2/8/2011', 'rate': 'Rate ', 'ratescore': '3.56', 'style%': '98', 'total_ratings': '400 '}, {'name': 'Boulevard Smokestack Series: Chocolate Ale - Raspberry', 'style': 'Spice / Herb / Vegetable', 'rating': '9.1', 'date': '1/20/2016', 'rate': 'Rate ', 'ratescore': '3.56', 'style%': '98', 'total_ratings': '62 '}, {'name': 'Boulevard Smokestack Series: Coffee Ale', 'style': 'Spice / Herb / Vegetable', 'rating': '9.3', 'date': '3/19/2013', 'rate': 'Rate ', 'ratescore': '3.62', 'style%': '99', 'total_ratings': '241 '}, {'name': 'Boulevard Smokestack Series: Double Wide I.P.A.', 'style': 'IPA - Imperial / Double', 'rating': '8.5', 'date': '4/30/2007', 'rate': 'Rate ', 'ratescore': '3.78', 'style%': '93', 'total_ratings': '1129 '}, {'name': 'Boulevard Smokestack Series: Funkier Pumpkin', 'style': 'Sour / Wild Ale', 'rating': '8.5', 'date': '8/15/2016', 'rate': 'Rate ', 'ratescore': '3.5', 'style%': '47', 'total_ratings': '81 '}, {'name': 'Boulevard Smokestack Series: Grainstorm Black Rye IPA', 'style': 'IPA - Black / Dark', 'rating': '7.7', 'date': '2/5/2013', 'rate': 'Rate ', 'ratescore': '3.72', 'style%': '95', 'total_ratings': '331 '}, {'name': 'Boulevard Smokestack Series: Harvest Dance Wheat Wine', 'style': 'Barley Wine / Wheat Wine', 'rating': '9.5', 'date': '10/10/2009', 'rate': 'Rate ', 'ratescore': '3.68', 'style%': '86', 'total_ratings': '429 '}, {'name': 'Boulevard Smokestack Series: Imperial Stout X - Aztec Chocolate', 'style': 'Stout - Imperial', 'rating': '11', 'date': '6/2/2015', 'rate': 'Rate ', 'ratescore': '3.77', 'style%': '75', 'total_ratings': '110 '}, {'name': 'Boulevard Smokestack Series: Imperial Stout X - Coconut', 'style': 'Stout - Imperial', 'rating': '11', 'date': '2/13/2016', 'rate': 'Rate ', 'ratescore': '3.84', 'style%': '85', 'total_ratings': '108 '}, {'name': 'Boulevard Smokestack Series: Imperial Stout X - Coffee', 'style': 'Stout - Imperial', 'rating': '11', 'date': '1/26/2015', 'rate': 'Rate ', 'ratescore': '3.88', 'style%': '89', 'total_ratings': '139 '}, {'name': 'Boulevard Smokestack Series: Imperial Stout X - Tart Cherry', 'style': 'Stout - Imperial', 'rating': '11', 'date': '10/4/2015', 'rate': 'Rate ', 'ratescore': '3.44', 'style%': '24', 'total_ratings': '73 '}, {'name': 'Boulevard Smokestack Series: Long Strange Tripel', 'style': 'Abbey Tripel', 'rating': '9.2', 'date': '7/18/2006', 'rate': 'Rate ', 'ratescore': '3.69', 'style%': '98', 'total_ratings': '663 '}, {'name': 'Boulevard Smokestack Series: Nommo Dubbel', 'style': 'Abbey Dubbel', 'rating': '8.1', 'date': '4/19/2006', 'rate': 'Rate ', 'ratescore': '3.54', 'style%': '96', 'total_ratings': '227 '}, {'name': 'Boulevard Smokestack Series: Reboot White I.P.A.', 'style': 'IPA', 'rating': '7.4', 'date': '7/12/2011', 'rate': 'Rate ', 'ratescore': '3.75', 'style%': '98', 'total_ratings': '267 '}, {'name': 'Boulevard Smokestack Series: Reverb Imperial Pilsner', 'style': 'Imperial Pils/Strong Pale Lager', 'rating': '7.7', 'date': '1/14/2010', 'rate': 'Rate ', 'ratescore': '3.59', 'style%': '97', 'total_ratings': '409 '}, {'name': 'Boulevard Smokestack Series: Rye-on-Rye X – Sazerac', 'style': 'American Strong Ale ', 'rating': '11.8', 'date': '7/12/2016', 'rate': 'Rate ', 'ratescore': '3.75', 'style%': '94', 'total_ratings': '81 '}, {'name': 'Boulevard Smokestack Series: Rye-on-Rye-on-Rye', 'style': 'Specialty Grain', 'rating': '14', 'date': '2/28/2016', 'rate': 'Rate ', 'ratescore': '3.82', 'style%': '100', 'total_ratings': '74 '}, {'name': 'Boulevard Smokestack Series: Saison', 'style': 'Saison', 'rating': '6.2', 'date': '4/9/2006', 'rate': 'Rate ', 'ratescore': '3.72', 'style%': '96', 'total_ratings': '377 '}, {'name': 'Boulevard Smokestack Series: Scotch on Scotch', 'style': 'Scotch Ale / Wee Heavy', 'rating': '9.6', 'date': '3/1/2017', 'rate': 'Rate ', 'ratescore': '3.58', 'style%': '90', 'total_ratings': '57 '}, {'name': 'Boulevard Smokestack Series: Seeyoulator Doppelbock', 'style': 'Bock - Doppelbock', 'rating': '8.5', 'date': '8/4/2009', 'rate': 'Rate ', 'ratescore': '3.53', 'style%': '91', 'total_ratings': '228 '}, {'name': 'Boulevard Smokestack Series: Tell-Tale Tart', 'style': 'Sour / Wild Ale', 'rating': '6.2', 'date': '6/9/2015', 'rate': 'Rate ', 'ratescore': '3.29', 'style%': '23', 'total_ratings': '256 '}, {'name': 'Boulevard Smokestack Series: Two Jokers Double-Wit', 'style': 'Witbier', 'rating': '8.0', 'date': '5/5/2009', 'rate': 'Rate ', 'ratescore': '3.62', 'style%': '100', 'total_ratings': '331 '}, {'name': 'Boulevard Snow & Tell', 'style': 'Scotch Ale / Wee Heavy', 'rating': '6.3', 'date': '11/9/2015', 'rate': 'Rate ', 'ratescore': '3.24', 'style%': '36', 'total_ratings': '136 '}, {'name': 'Boulevard Spiced Saison', 'style': 'Saison', 'rating': '7.2', 'date': '5/12/2014', 'rate': 'Rate ', 'ratescore': '3.05', 'style%': '', 'total_ratings': '5 '}, {'name': 'Boulevard Sporting KC Championship Ale', 'style': 'Saison', 'rating': '6.2', 'date': '6/17/2014', 'rate': 'Rate ', 'ratescore': '3.56', 'style%': '88', 'total_ratings': '35 '}, {'name': 'Boulevard Spring Belle', 'style': 'Saison', 'rating': '6.2', 'date': '2/17/2015', 'rate': 'Rate ', 'ratescore': '3.29', 'style%': '41', 'total_ratings': '74 '}, {'name': 'Boulevard Tank 7 Farmhouse Ale', 'style': 'Saison', 'rating': '8.5', 'date': '5/4/2009', 'rate': 'Rate ', 'ratescore': '3.79', 'style%': '98', 'total_ratings': '1812 '}, {'name': 'Boulevard Tart Apple Radler', 'style': 'Radler / Shandy', 'rating': '4.1', 'date': '9/11/2018', 'rate': 'Rate ', 'ratescore': '3.19', 'style%': '', 'total_ratings': '4 '}, {'name': 'Boulevard Tasting Room Series: American Brown Ale', 'style': 'Brown Ale', 'rating': '5.5', 'date': '9/2/2018', 'rate': 'Rate ', 'ratescore': '3.16', 'style%': '', 'total_ratings': '2 '}, {'name': 'Boulevard Tasting Room Series: Belgian-Style IPA', 'style': 'IPA', 'rating': '5.7', 'date': '8/3/2015', 'rate': 'Rate ', 'ratescore': '3.48', 'style%': '72', 'total_ratings': '30 '}, {'name': 'Boulevard Tasting Room Series: Black Pale Ale', 'style': 'IPA - Black / Dark', 'rating': '5.7', 'date': '8/3/2015', 'rate': 'Rate ', 'ratescore': '3.32', 'style%': '32', 'total_ratings': '34 '}, {'name': 'Boulevard Tasting Room Series: Black Walnut Ale', 'style': 'Brown Ale', 'rating': '5.0', 'date': '8/15/2016', 'rate': 'Rate ', 'ratescore': '3.28', 'style%': '73', 'total_ratings': '13 '}, {'name': 'Boulevard Tasting Room Series: Blonde Ale', 'style': 'Golden Ale / Blond Ale', 'rating': '5.8', 'date': '2/19/2015', 'rate': 'Rate ', 'ratescore': '3.19', 'style%': '88', 'total_ratings': '42 '}, {'name': 'Boulevard Tasting Room Series: Brut IPA', 'style': 'IPA', 'rating': '7.3', 'date': '7/6/2018', 'rate': 'Rate ', 'ratescore': '3.22', 'style%': '', 'total_ratings': '3 '}, {'name': 'Boulevard Tasting Room Series: DDH Citra India Pale Ale', 'style': 'IPA', 'rating': '5.9', 'date': '8/23/2018', 'rate': 'Rate ', 'ratescore': '3.33', 'style%': '', 'total_ratings': '2 '}, {'name': 'Boulevard Tasting Room Series: DDH Galaxy IPA', 'style': 'IPA - Imperial / Double', 'rating': '8.1', 'date': '6/27/2018', 'rate': 'Rate ', 'ratescore': '3.42', 'style%': '', 'total_ratings': '3 '}, {'name': 'Boulevard Tasting Room Series: ESB', 'style': 'Premium Bitter / ESB', 'rating': '4.9', 'date': '3/6/2014', 'rate': 'Rate ', 'ratescore': '3.39', 'style%': '96', 'total_ratings': '52 '}, {'name': 'Boulevard Tasting Room Series: Extra Pale Ale', 'style': 'Pale Ale - American', 'rating': '5.5', 'date': '4/16/2017', 'rate': 'Rate ', 'ratescore': '3.26', 'style%': '50', 'total_ratings': '18 '}, {'name': 'Boulevard Tasting Room Series: Mid-Coast IPA', 'style': 'IPA', 'rating': '5.6', 'date': '8/6/2013', 'rate': 'Rate ', 'ratescore': '3.73', 'style%': '97', 'total_ratings': '144 '}, {'name': 'Boulevard Tasting Room Series: Oat Pale Ale', 'style': 'Pale Ale - American', 'rating': '5.1', 'date': '12/21/2016', 'rate': 'Rate ', 'ratescore': '3.17', 'style%': '41', 'total_ratings': '11 '}, {'name': 'Boulevard Tasting Room Series: Oatmeal Stout', 'style': 'Stout - Sweet', 'rating': '5.5', 'date': '4/17/2014', 'rate': 'Rate ', 'ratescore': '3.46', 'style%': '69', 'total_ratings': '63 '}, {'name': 'Boulevard Tasting Room Series: Red IPA', 'style': 'IPA', 'rating': '5.8', 'date': '2/17/2015', 'rate': 'Rate ', 'ratescore': '3.42', 'style%': '68', 'total_ratings': '38 '}, {'name': 'Boulevard Tasting Room Series: Rosemary IPA', 'style': 'IPA', 'rating': '6.0', 'date': '9/8/2016', 'rate': 'Rate ', 'ratescore': '3.38', 'style%': '51', 'total_ratings': '34 '}, {'name': 'Boulevard Tasting Room Series: Southern Hemisphere IPA', 'style': 'IPA - Imperial / Double', 'rating': '7.5', 'date': '6/27/2018', 'rate': 'Rate ', 'ratescore': '3.33', 'style%': '', 'total_ratings': '3 '}, {'name': 'Boulevard Tasting Room Series: Spicy Rye Ale', 'style': 'Specialty Grain', 'rating': '5.3', 'date': '4/16/2017', 'rate': 'Rate ', 'ratescore': '3.39', 'style%': '90', 'total_ratings': '14 '}, {'name': 'Boulevard Tasting Room Series: Westside Rye Ale', 'style': 'Specialty Grain', 'rating': '5.2', 'date': '8/6/2013', 'rate': 'Rate ', 'ratescore': '3.18', 'style%': '52', 'total_ratings': '104 '}, {'name': 'Boulevard Tasting Room Series: White IPA', 'style': 'IPA', 'rating': '5.8', 'date': '3/12/2016', 'rate': 'Rate ', 'ratescore': '3.48', 'style%': '75', 'total_ratings': '22 '}, {'name': 'Boulevard Tasting Room Series; 80 Shilling Scottish-Style Ale', 'style': 'Scottish Ale', 'rating': '4.1', 'date': '2/20/2018', 'rate': 'Rate ', 'ratescore': '3.12', 'style%': '', 'total_ratings': '7 '}, {'name': 'Boulevard Tech N9ne Bou Lou', 'style': 'Wheat Ale', 'rating': '5.5', 'date': '5/8/2018', 'rate': 'Rate ', 'ratescore': '3.35', 'style%': '91', 'total_ratings': '9 '}, {'name': 'Boulevard Tenpenny Ale', 'style': 'Bitter', 'rating': '3.3', 'date': '6/18/2001', 'rate': 'Rate ', 'ratescore': '2.92', 'style%': '36', 'total_ratings': '18 '}, {'name': 'Boulevard Tequila Barrel Lime Gose', 'style': 'Grodziskie/Gose/Lichtenhainer', 'rating': '5.9', 'date': '4/25/2017', 'rate': 'Rate ', 'ratescore': '3.41', 'style%': '67', 'total_ratings': '36 '}, {'name': 'Boulevard Test Barleywine', 'style': 'Barley Wine / Wheat Wine', 'rating': '11.5', 'date': '8/15/2016', 'rate': 'Rate ', 'ratescore': '3.13', 'style%': '', 'total_ratings': '3 '}, {'name': 'Boulevard Test Belgian Blonde', 'style': 'Belgian Ale', 'rating': '7.8', 'date': '10/22/2017', 'rate': 'Rate ', 'ratescore': '3.19', 'style%': '', 'total_ratings': '2 '}, {'name': 'Boulevard Test Berry Ale', 'style': 'Fruit Beer', 'rating': '5.9', 'date': '9/1/2017', 'rate': 'Rate ', 'ratescore': '3.14', 'style%': '', 'total_ratings': '2 '}, {'name': 'Boulevard Test Brut IPA', 'style': 'IPA', 'rating': '5.7', 'date': '7/24/2018', 'rate': 'Rate ', 'ratescore': '3.04', 'style%': '', 'total_ratings': '1 '}, {'name': 'Boulevard Test Chocolate Cookie Stout', 'style': 'Stout - Imperial', 'rating': '9.0', 'date': '5/17/2018', 'rate': 'Rate ', 'ratescore': '3.18', 'style%': '', 'total_ratings': '2 '}, {'name': 'Boulevard Test Dark Mild Ale', 'style': 'Mild Ale', 'rating': '4.3', 'date': '2/1/2018', 'rate': 'Rate ', 'ratescore': '3.04', 'style%': '', 'total_ratings': '1 '}, {'name': 'Boulevard Test Dry Cider', 'style': 'Cider', 'rating': '5.0', 'date': '8/15/2016', 'rate': 'Rate ', 'ratescore': '3.11', 'style%': '', 'total_ratings': '2 '}, {'name': 'Boulevard Test Dry-Hopped Helles', 'style': 'Helles', 'rating': '5.6', 'date': '8/15/2016', 'rate': 'Rate ', 'ratescore': '3.32', 'style%': '98', 'total_ratings': '15 '}, {'name': 'Boulevard Test El Dorado IPA', 'style': 'IPA', 'rating': '7.2', 'date': '2/1/2018', 'rate': 'Rate ', 'ratescore': '3.21', 'style%': '', 'total_ratings': '2 '}, {'name': 'Boulevard Test Golden Sour Peach Ale', 'style': 'Sour / Wild Ale', 'rating': '7.0', 'date': '3/12/2018', 'rate': 'Rate ', 'ratescore': '3.11', 'style%': '', 'total_ratings': '1 '}, {'name': 'Boulevard Test Mosaic TDH IPA', 'style': 'IPA - Imperial / Double', 'rating': '8.9', 'date': '7/24/2018', 'rate': 'Rate ', 'ratescore': '3.11', 'style%': '', 'total_ratings': '1 '}, {'name': 'Boulevard Test Oak-Aged Hybrid with Muscat Grapes', 'style': 'Fruit Beer', 'rating': '8.7', 'date': '6/27/2018', 'rate': 'Rate ', 'ratescore': '3.12', 'style%': '', 'total_ratings': '2 '}, {'name': 'Boulevard Test Oak-Aged Strong Ale', 'style': 'Belgian Strong Ale', 'rating': '9.7', 'date': '6/19/2017', 'rate': 'Rate ', 'ratescore': '3', 'style%': '', 'total_ratings': '1 '}, {'name': 'Boulevard Test Passionfruit Golden Sour Ale', 'style': 'Sour / Wild Ale', 'rating': '7.0', 'date': '10/3/2018', 'rate': 'Rate ', 'ratescore': '3.21', 'style%': '', 'total_ratings': '1 '}, {'name': 'Boulevard Test Peach Saison', 'style': 'Saison', 'rating': '5.0', 'date': '7/6/2018', 'rate': 'Rate ', 'ratescore': '3.05', 'style%': '', 'total_ratings': '2 '}, {'name': 'Boulevard Test Salted Caramel Stout', 'style': 'Stout - Sweet', 'rating': '7.2', 'date': '6/25/2018', 'rate': 'Rate ', 'ratescore': '2.98', 'style%': '', 'total_ratings': '1 '}, {'name': 'Boulevard Test Schwarzbier', 'style': 'Schwarzbier', 'rating': '4.8', 'date': '8/15/2016', 'rate': 'Rate ', 'ratescore': '3.09', 'style%': '', 'total_ratings': '1 '}, {'name': 'Boulevard Test Smoked Bock', 'style': 'Smoked', 'rating': '6.6', 'date': '5/1/2018', 'rate': 'Rate ', 'ratescore': '3.23', 'style%': '', 'total_ratings': '2 '}, {'name': 'Boulevard Test Summer Saison', 'style': 'Saison', 'rating': '5.5', 'date': '12/21/2016', 'rate': 'Rate ', 'ratescore': '3.04', 'style%': '', 'total_ratings': '1 '}, {'name': 'Boulevard Test Unfiltered IPA', 'style': 'IPA', 'rating': '6.7', 'date': '9/1/2017', 'rate': 'Rate ', 'ratescore': '3.44', 'style%': '', 'total_ratings': '6 '}, {'name': 'Boulevard Test Whiskey Barrel Stout with Ethiopian Coffee ', 'style': 'Stout - Imperial', 'rating': '11.8', 'date': '6/27/2018', 'rate': 'Rate ', 'ratescore': '3.19', 'style%': '', 'total_ratings': '1 '}, {'name': 'Boulevard The Calling IPA', 'style': 'IPA - Imperial / Double', 'rating': '8.5', 'date': '2/17/2015', 'rate': 'Rate ', 'ratescore': '3.76', 'style%': '92', 'total_ratings': '670 '}, {'name': 'Boulevard The Sixth Glass', 'style': 'Abbey Quadrupel / Abt', 'rating': '10.2', 'date': '12/3/2006', 'rate': 'Rate ', 'ratescore': '3.72', 'style%': '88', 'total_ratings': '1125 '}, {'name': 'Boulevard Tough Kitty Milk Stout', 'style': 'Stout - Sweet', 'rating': '5.5', 'date': '8/8/2017', 'rate': 'Rate ', 'ratescore': '3.38', 'style%': '49', 'total_ratings': '74 '}, {'name': 'Boulevard Tripel Julep', 'style': 'Spice / Herb / Vegetable', 'rating': '11.5', 'date': '2/13/2012', 'rate': 'Rate ', 'ratescore': '3.36', 'style%': '89', 'total_ratings': '47 '}, {'name': 'Boulevard Tropical Pale Ale', 'style': 'Pale Ale - American', 'rating': '5.9', 'date': '4/11/2016', 'rate': 'Rate ', 'ratescore': '3.42', 'style%': '81', 'total_ratings': '171 '}, {'name': 'Boulevard Unfiltered Wheat Beer', 'style': 'Wheat Ale', 'rating': '4.4', 'date': '12/18/2000', 'rate': 'Rate ', 'ratescore': '3.07', 'style%': '51', 'total_ratings': '962 '}, {'name': 'Boulevard Vamos', 'style': 'Pale Lager', 'rating': '5.2', 'date': '3/10/2018', 'rate': 'Rate ', 'ratescore': '3.17', 'style%': '', 'total_ratings': '5 '}, {'name': 'Boulevard Whiskey Barrel Stout', 'style': 'Stout - Imperial', 'rating': '11.8', 'date': '12/25/2008', 'rate': 'Rate ', 'ratescore': '3.92', 'style%': '92', 'total_ratings': '629 '}, {'name': 'Boulevard Zeus IPA', 'style': 'IPA', 'rating': '-', 'date': '5/17/2006', 'rate': 'Rate ', 'ratescore': '3.14', 'style%': '', 'total_ratings': '7 '}, {'name': 'Boulevard Zôn ', 'style': 'Witbier', 'rating': '4.4', 'date': '5/27/2001', 'rate': 'Rate ', 'ratescore': '3.32', 'style%': '91', 'total_ratings': '480 '}]\n"
     ]
    }
   ],
   "source": [
    "# test=[]\n",
    "for x in beer_links:\n",
    "    SecondHalf = get2ndHalfLink(x)\n",
    "    table = getBeers(SecondHalf)\n",
    "    blahlist = getFinal(table)\n",
    "    print(blahlist)"
   ]
  },
  {
   "cell_type": "code",
   "execution_count": 61,
   "metadata": {},
   "outputs": [
    {
     "name": "stdout",
     "output_type": "stream",
     "text": [
      "<tr class=\"less-opaque even\" role=\"row\" valign=\"middle\"><td class=\"sorting_1\" width=\"50%\"> <strong><a href=\"/beer/boulevard-cambridge-za39tart-spiced-sour-ale/286543/\">Boulevard / Cambridge Za'Tart Spiced Sour Ale</a></strong> <em class=\"real-small\"><label title=\"Currently out of production\">(retired)</label></em> <a href=\"/beerstyles/sour-wild-ale/52/\"><span class=\"real-small hidden-xs\" style=\"color:#b2b2b2;\">Sour / Wild Ale</span></a><div class=\"small hidden-sm hidden-md hidden-lg hidden-xl\">4.7% <a href=\"/beerstyles/sour-wild-ale/52/\">Sour / Wild Ale</a></div></td><td class=\" hidden-xs \">4.7</td><td class=\"real-small text-nowrap text-left hidden-xs \" data-orderdata=\"9/10/2014 5:01:42 PM\">9/10/2014</td><td class=\"text-nowrap text-left hidden-xs \"><a class=\"label label-info small\" href=\"/beer/rate/286543/\" title=\"Rate this beer\">Rate</a> </td><td class=\"text-left\"><b>3.39</b></td><td align=\"center\" class=\"small hidden-xs \">37</td><td class=\"text-left\">11 </td></tr>\n"
     ]
    }
   ],
   "source": [
    "print(table[1])"
   ]
  },
  {
   "cell_type": "code",
   "execution_count": null,
   "metadata": {},
   "outputs": [],
   "source": [
    "for x in test:\n",
    "    for y in x:\n",
    "        print(y.text)"
   ]
  },
  {
   "cell_type": "code",
   "execution_count": null,
   "metadata": {},
   "outputs": [],
   "source": []
  },
  {
   "cell_type": "code",
   "execution_count": null,
   "metadata": {},
   "outputs": [],
   "source": []
  }
 ],
 "metadata": {
  "kernelspec": {
   "display_name": "Python [default]",
   "language": "python",
   "name": "python3"
  },
  "language_info": {
   "codemirror_mode": {
    "name": "ipython",
    "version": 3
   },
   "file_extension": ".py",
   "mimetype": "text/x-python",
   "name": "python",
   "nbconvert_exporter": "python",
   "pygments_lexer": "ipython3",
   "version": "3.6.5"
  }
 },
 "nbformat": 4,
 "nbformat_minor": 2
}
