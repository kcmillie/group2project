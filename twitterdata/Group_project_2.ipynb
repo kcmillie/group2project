{
 "cells": [
  {
   "cell_type": "code",
   "execution_count": 2,
   "metadata": {},
   "outputs": [],
   "source": [
    "#Tweets from certain accounts\n",
    "# Dependencies\n",
    "import tweepy\n",
    "import json\n",
    "from config import consumer_key, consumer_secret, access_token, access_token_secret"
   ]
  },
  {
   "cell_type": "code",
   "execution_count": 3,
   "metadata": {},
   "outputs": [],
   "source": [
    "# Setup Tweepy API Authentication\n",
    "auth = tweepy.OAuthHandler(consumer_key, consumer_secret)\n",
    "auth.set_access_token(access_token, access_token_secret)\n",
    "api = tweepy.API(auth, parser=tweepy.parsers.JSONParser())"
   ]
  },
  {
   "cell_type": "code",
   "execution_count": 9,
   "metadata": {},
   "outputs": [],
   "source": [
    "# Target User\n",
    "target_user = \"cinderblockbrew\""
   ]
  },
  {
   "cell_type": "code",
   "execution_count": 10,
   "metadata": {},
   "outputs": [],
   "source": [
    "cinderblockbrew\n",
    "BigRipBeer this one\n",
    "BKSArtisanAles\n",
    "BorderBrewCo\n",
    "Boulevard_Beer\n",
    "BreweryEmperial\n",
    "BrewLabKC\n",
    "CalibrationBrew\n",
    "CABrewing casualanimal\n",
    "CraneBrewing\n",
    "Dblshiftbrewing\n",
    "KCBierCo\n",
    "martincitybrew\n",
    "StrangeDaysBeer\n",
    "TornLabelKC\n",
    "StockyardsBeer"
   ]
  },
  {
   "cell_type": "code",
   "execution_count": 11,
   "metadata": {},
   "outputs": [],
   "source": [
    "# Get all tweets from home feed\n",
    "public_tweets = api.user_timeline(target_user)"
   ]
  },
  {
   "cell_type": "code",
   "execution_count": 12,
   "metadata": {},
   "outputs": [],
   "source": [
    "# Loop through all tweets\n",
    "# for tweet in public_tweets:\n",
    "\n",
    "#     # Utilize JSON dumps to generate a pretty-printed json\n",
    "#     print(json.dumps(tweet, sort_keys=True, indent=4))"
   ]
  },
  {
   "cell_type": "code",
   "execution_count": 13,
   "metadata": {},
   "outputs": [
    {
     "name": "stdout",
     "output_type": "stream",
     "text": [
      "Most Recent Tweet: RT @Conrads816: You know you want one... #BrewGlass Thursday w/ our friends at @cinderblockbrew in NKC. Buy the Beer, Keep the Glass (WSL)…\n"
     ]
    }
   ],
   "source": [
    "#most recent tweet\n",
    "recent_tweet = public_tweets[0][\"text\"]\n",
    "print(f\"Most Recent Tweet: {recent_tweet}\")"
   ]
  },
  {
   "cell_type": "code",
   "execution_count": 112,
   "metadata": {},
   "outputs": [],
   "source": [
    "#for hashtags in status.entities['hashtags']:\n",
    "   # print (hashtags['kcbeer'])\n"
   ]
  },
  {
   "cell_type": "code",
   "execution_count": null,
   "metadata": {},
   "outputs": [],
   "source": []
  },
  {
   "cell_type": "code",
   "execution_count": null,
   "metadata": {},
   "outputs": [],
   "source": []
  }
 ],
 "metadata": {
  "kernelspec": {
   "display_name": "Python [default]",
   "language": "python",
   "name": "python3"
  },
  "language_info": {
   "codemirror_mode": {
    "name": "ipython",
    "version": 3
   },
   "file_extension": ".py",
   "mimetype": "text/x-python",
   "name": "python",
   "nbconvert_exporter": "python",
   "pygments_lexer": "ipython3",
   "version": "3.6.5"
  }
 },
 "nbformat": 4,
 "nbformat_minor": 2
}
